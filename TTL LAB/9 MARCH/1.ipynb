{
 "cells": [
  {
   "cell_type": "code",
   "execution_count": 1,
   "id": "cf12600a-b814-422a-affa-eea3fe5d05f9",
   "metadata": {},
   "outputs": [
    {
     "name": "stdout",
     "output_type": "stream",
     "text": [
      "Requirement already satisfied: numpy in c:\\users\\kiit\\anaconda3\\lib\\site-packages (1.26.4)\n",
      "Note: you may need to restart the kernel to use updated packages.\n"
     ]
    }
   ],
   "source": [
    "pip install numpy"
   ]
  },
  {
   "cell_type": "code",
   "execution_count": 2,
   "id": "6543f2a1-c9ad-44d0-95f7-7d4479b5afb5",
   "metadata": {},
   "outputs": [],
   "source": [
    "import numpy as np;\n",
    "empty_array = np.empty((0,0))"
   ]
  },
  {
   "cell_type": "code",
   "execution_count": null,
   "id": "359ebd9a-e26b-4bee-80e6-c2077901035b",
   "metadata": {},
   "outputs": [],
   "source": [
    "print(\"Empty Array:\",empty_array)"
   ]
  }
 ],
 "metadata": {
  "kernelspec": {
   "display_name": "Python 3 (ipykernel)",
   "language": "python",
   "name": "python3"
  },
  "language_info": {
   "codemirror_mode": {
    "name": "ipython",
    "version": 3
   },
   "file_extension": ".py",
   "mimetype": "text/x-python",
   "name": "python",
   "nbconvert_exporter": "python",
   "pygments_lexer": "ipython3",
   "version": "3.11.7"
  }
 },
 "nbformat": 4,
 "nbformat_minor": 5
}
