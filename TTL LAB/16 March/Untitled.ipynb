{
 "cells": [
  {
   "cell_type": "code",
   "execution_count": 2,
   "id": "3dc08437-5a59-4cdb-b252-918a7c82c039",
   "metadata": {},
   "outputs": [],
   "source": [
    "import pandas as pd"
   ]
  },
  {
   "cell_type": "code",
   "execution_count": 4,
   "id": "9bc50ec9-7a89-409f-a3fb-d4af1f99277e",
   "metadata": {},
   "outputs": [
    {
     "name": "stdout",
     "output_type": "stream",
     "text": [
      "   rank discipline  phd  service   sex  salary\n",
      "0  Prof          B   56       49  Male  186960\n",
      "1  Prof          A   12        6  Male   93000\n",
      "2  Prof          A   23       20  Male  110515\n",
      "3  Prof          A   40       31  Male  131205\n",
      "4  Prof          B   20       18  Male  104800\n"
     ]
    }
   ],
   "source": [
    "df = pd.read_csv(\"Salaries.csv\")\n",
    "print(df.head()) "
   ]
  },
  {
   "cell_type": "code",
   "execution_count": 5,
   "id": "de9ddec2-182c-4412-bdc3-faecf6d057e3",
   "metadata": {},
   "outputs": [
    {
     "name": "stdout",
     "output_type": "stream",
     "text": [
      "The DataFrame has 78 rows and 6 columns.\n",
      "\n",
      "First 10 rows:\n",
      "        rank discipline  phd  service   sex  salary\n",
      "0       Prof          B   56       49  Male  186960\n",
      "1       Prof          A   12        6  Male   93000\n",
      "2       Prof          A   23       20  Male  110515\n",
      "3       Prof          A   40       31  Male  131205\n",
      "4       Prof          B   20       18  Male  104800\n",
      "5       Prof          A   20       20  Male  122400\n",
      "6  AssocProf          A   20       17  Male   81285\n",
      "7       Prof          A   18       18  Male  126300\n",
      "8       Prof          A   29       19  Male   94350\n",
      "9       Prof          A   51       51  Male   57800\n",
      "\n",
      "Last 15 rows:\n",
      "         rank discipline  phd  service     sex  salary\n",
      "63       Prof          A   29       27  Female   91000\n",
      "64  AssocProf          A   26       24  Female   73300\n",
      "65       Prof          A   36       19  Female  117555\n",
      "66   AsstProf          A    7        6  Female   63100\n",
      "67       Prof          A   17       11  Female   90450\n",
      "68   AsstProf          A    4        2  Female   77500\n",
      "69       Prof          A   28        7  Female  116450\n",
      "70   AsstProf          A    8        3  Female   78500\n",
      "71  AssocProf          B   12        9  Female   71065\n",
      "72       Prof          B   24       15  Female  161101\n",
      "73       Prof          B   18       10  Female  105450\n",
      "74  AssocProf          B   19        6  Female  104542\n",
      "75       Prof          B   17       17  Female  124312\n",
      "76       Prof          A   28       14  Female  109954\n",
      "77       Prof          A   23       15  Female  109646\n"
     ]
    }
   ],
   "source": [
    "df = pd.read_csv(\"Salaries.csv\")\n",
    "\n",
    "num_rows = df.shape[0]\n",
    "num_cols = df.shape[1]\n",
    "\n",
    "print(f\"The DataFrame has {num_rows} rows and {num_cols} columns.\")\n",
    "\n",
    "print(\"\\nFirst 10 rows:\")\n",
    "print(df.head(10))\n",
    "\n",
    "if num_rows >= 15:\n",
    "    print(\"\\nLast 15 rows:\")\n",
    "    print(df.tail(15))\n",
    "else:\n",
    "    print(\"\\nLast rows:\")\n",
    "    print(df.tail(num_rows))\n"
   ]
  },
  {
   "cell_type": "code",
   "execution_count": null,
   "id": "be8dd958-673e-4582-95ab-9f55e8c83322",
   "metadata": {},
   "outputs": [],
   "source": []
  }
 ],
 "metadata": {
  "kernelspec": {
   "display_name": "Python 3 (ipykernel)",
   "language": "python",
   "name": "python3"
  },
  "language_info": {
   "codemirror_mode": {
    "name": "ipython",
    "version": 3
   },
   "file_extension": ".py",
   "mimetype": "text/x-python",
   "name": "python",
   "nbconvert_exporter": "python",
   "pygments_lexer": "ipython3",
   "version": "3.11.7"
  }
 },
 "nbformat": 4,
 "nbformat_minor": 5
}
